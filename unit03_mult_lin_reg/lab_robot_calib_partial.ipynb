{
  "cells": [
    {
      "cell_type": "markdown",
      "metadata": {
        "id": "yrZXA4cwE8QW"
      },
      "source": [
        "# Multiple Linear Regression for Robot Calibration\n",
        "\n",
        "In this lab, we will illustrate the use of multiple linear regression for calibrating robot control.  In addition to reviewing the concepts in the [multiple linear regression demo](https://github.com/pliugithub/MachineLearning/blob/master/unit03_mult_lin_reg/demo1_glucose.ipynb), you will see how to use multiple linear regression for time series data -- an important concept in dynamical systems such as robotics.\n",
        "\n",
        "The robot data for the lab is taken generously from the TU Dortmund's [Multiple Link Robot Arms Project](https://rst.etit.tu-dortmund.de/forschung/robotik/leichtbau/details-tudor/).  As part of the project, they have created an excellent public dataset: [MERIt](https://rst.etit.tu-dortmund.de/forschung/robotik/leichtbau/details-tudor/#c11560) -- A Multi-Elastic-Link Robot Identification Dataset that can be used for understanding robot dynamics.  The data is from a three link robot:\n",
        "\n",
        "<img src=\"https://rst.etit.tu-dortmund.de/storages/rst-etit/r/Media_Forschung/Robotik/Leichtbau/TUDORBild.png\" height=\"200\" width=\"200\">\n",
        "\n",
        "\n",
        "We will focus on predicting the current draw into one of the joints as a function of the robot motion.  Such models are essential in predicting the overall robot power consumption.  Several other models could also be used."
      ]
    },
    {
      "cell_type": "markdown",
      "metadata": {
        "id": "w_mqa3tVE8QX"
      },
      "source": [
        "## Load and Visualize the Data\n",
        "First, import the modules we will need."
      ]
    },
    {
      "cell_type": "code",
      "execution_count": null,
      "metadata": {
        "id": "Rkbo93oDE8QX"
      },
      "outputs": [],
      "source": [
        "import pandas as pd\n",
        "import numpy as np\n",
        "import matplotlib\n",
        "import matplotlib.pyplot as plt\n",
        "%matplotlib inline"
      ]
    },
    {
      "cell_type": "markdown",
      "metadata": {
        "id": "RyA7Y-u_E8QX"
      },
      "source": [
        "The full MERIt dataset can be obtained from the [MERIt site](http://www.rst.e-technik.tu-dortmund.de/cms/en/research/robotics/TUDOR_engl/index.html#h3MERIt).  But, this dataset is large.  Included in this repository are two of the ten experiments.  Each experiments corresonds to 80 seconds of recorded motion.  We will use the following files:\n",
        "* [exp1.csv](./exp1.csv) for training\n",
        "* [exp2.csv](./exp2.csv) for test\n",
        "\n",
        "If you are running this notebook on Google colab, you will need to run the following commands to load the files onto your local machine.  Otherwise, if you have clone the repository, the files should be in the directory as the notebook and you can skip this step."
      ]
    },
    {
      "cell_type": "code",
      "execution_count": null,
      "metadata": {
        "id": "N3w-XXpXE8QX",
        "outputId": "6550a9d4-a3c2-441a-c153-59ac189c7225"
      },
      "outputs": [
        {
          "name": "stdout",
          "output_type": "stream",
          "text": [
            "File exp1.csv is already downloaded\n",
            "File exp2.csv is already downloaded\n"
          ]
        }
      ],
      "source": [
        "import os\n",
        "from six.moves import urllib\n",
        "\n",
        "for fn_dst in ['exp1.csv', 'exp2.csv']:\n",
        "    fn_src = 'https://raw.githubusercontent.com/sdrangan/introml/master/unit03_mult_lin_reg/%s' % fn_dst\n",
        "\n",
        "    if os.path.isfile(fn_dst):\n",
        "        print('File %s is already downloaded' % fn_dst)\n",
        "    else:\n",
        "        print('Downloaded %s' % fn_dst)\n",
        "        urllib.request.urlretrieve(fn_src, fn_dst)"
      ]
    },
    {
      "cell_type": "markdown",
      "metadata": {
        "id": "UW_lp9YNE8QX"
      },
      "source": [
        "Below, I have supplied the column headers in the `names` array.  Use the `pd.read_csv` command to load the training data in `exp1.csv`.  Use the `index_col` option to specify that column 0 (the one with time) is the *index* column.  You can review [simple linear regression demo](https://github.com/pliugithub/MachineLearning/blob/master/unit02_simp_lin_reg/demo_auto_mpg.ipynb) for examples of using the `pd.read_csv` command."
      ]
    },
    {
      "cell_type": "code",
      "execution_count": null,
      "metadata": {
        "id": "1kjP4XmIE8QX"
      },
      "outputs": [],
      "source": [
        "names =[\n",
        "    't',                                  # Time (secs)\n",
        "    'q1', 'q2', 'q3',                     # Joint angle   (rads)\n",
        "    'dq1', 'dq2', 'dq3',                  # Joint velocity (rads/sec)\n",
        "    'I1', 'I2', 'I3',                     # Motor current (A)\n",
        "    'eps21', 'eps22', 'eps31', 'eps32',   # Strain gauge measurements ($\\mu$m /m )\n",
        "    'ddq1', 'ddq2', 'ddq3'                # Joint accelerations (rad/sec^2)\n",
        "]\n",
        "# TODO 1\n",
        "# df = pd.read_csv(...)"
      ]
    },
    {
      "cell_type": "markdown",
      "metadata": {
        "id": "9ttkfHbdE8QX"
      },
      "source": [
        "Print the first six lines of the pandas dataframe and manually check that they match the first rows of the csv file."
      ]
    },
    {
      "cell_type": "code",
      "execution_count": null,
      "metadata": {
        "id": "fHAqW812E8QX"
      },
      "outputs": [],
      "source": [
        "# TODO 2"
      ]
    },
    {
      "cell_type": "markdown",
      "metadata": {
        "id": "2rCVqCnyE8QX"
      },
      "source": [
        "From the dataframe `df`, extract the time indices into a vector `t` and extract `I2`, the current into the second joint.  Place the current in a vector `y` and plot `y` vs. `t`.   Label the axes with the units."
      ]
    },
    {
      "cell_type": "code",
      "execution_count": null,
      "metadata": {
        "id": "oBb7dBncE8QY"
      },
      "outputs": [],
      "source": [
        "# TODO 3\n",
        "# y = ...\n",
        "# t = ...\n",
        "# plt.plot(...)"
      ]
    },
    {
      "cell_type": "markdown",
      "metadata": {
        "id": "DenM5CyfE8QY"
      },
      "source": [
        "Use all the samples from the experiment 1 dataset to create the training data:\n",
        "* `ytrain`:  A vector of all the samples from the `I2` column\n",
        "* `Xtrain`:  A matrix of the data with the columns:  `['q2','dq2','eps21', 'eps22', 'eps31', 'eps32','ddq2']`"
      ]
    },
    {
      "cell_type": "code",
      "execution_count": null,
      "metadata": {
        "id": "e-8YY-XaE8QY"
      },
      "outputs": [],
      "source": [
        "# TODO 4\n",
        "# ytrain = ...\n",
        "# Xtrain = ..."
      ]
    },
    {
      "cell_type": "markdown",
      "metadata": {
        "id": "wzKfrzQgE8QY"
      },
      "source": [
        "## Fit a Linear Model\n",
        "Use the `sklearn.linear_model` module to create a `LinearRegression` class `regr`."
      ]
    },
    {
      "cell_type": "code",
      "execution_count": null,
      "metadata": {
        "id": "xAd1q_fgE8QY"
      },
      "outputs": [],
      "source": [
        "from sklearn import linear_model\n",
        "\n",
        "# Create linear regression object\n",
        "# TODO 5\n",
        "# regr = ..."
      ]
    },
    {
      "cell_type": "markdown",
      "metadata": {
        "id": "wK9-DCHcE8QY"
      },
      "source": [
        "Train the model on the training data."
      ]
    },
    {
      "cell_type": "code",
      "execution_count": null,
      "metadata": {
        "id": "RV4wu95xE8QY"
      },
      "outputs": [],
      "source": [
        "# TODO 6"
      ]
    },
    {
      "cell_type": "markdown",
      "metadata": {
        "id": "m11vHws7E8QY"
      },
      "source": [
        "Using the trained model, compute, `ytrain_pred`, the predicted current.  Plot `ytrain_pred` vs. time `t`.  On the same plot, plot the actual current `ytrain` vs. time `t`.  Create a legend for the plot."
      ]
    },
    {
      "cell_type": "code",
      "execution_count": null,
      "metadata": {
        "id": "pO67HxzXE8QY"
      },
      "outputs": [],
      "source": [
        "# TODO 7\n",
        "# ytrain_pred = ...\n",
        "# plt.plot(...)"
      ]
    },
    {
      "cell_type": "markdown",
      "metadata": {
        "id": "nIdzzOucE8QY"
      },
      "source": [
        "Measure the normalized RSS given by $RSS / (n s^2_y)$."
      ]
    },
    {
      "cell_type": "code",
      "execution_count": null,
      "metadata": {
        "id": "3HO6RpteE8QY"
      },
      "outputs": [],
      "source": [
        "# TODO 8\n",
        "# RSS_train = ..."
      ]
    },
    {
      "cell_type": "markdown",
      "metadata": {
        "id": "y6C6CcefE8QY"
      },
      "source": [
        "## Measure the Fit on an Indepdent Dataset\n",
        "\n",
        "Up to now, we have only tested the model on the same data on which it was trained.  In general, we need to test model on independent data not used in the training.  For this purpose, load the data in `exp2.csv`.  Compute the regression predicted values on this data and plot the predicted and actual values over time."
      ]
    },
    {
      "cell_type": "code",
      "execution_count": null,
      "metadata": {
        "id": "Z5SC25TuE8QY"
      },
      "outputs": [],
      "source": [
        "# TODO 9"
      ]
    },
    {
      "cell_type": "markdown",
      "metadata": {
        "id": "JZbTjMgUE8QY"
      },
      "source": [
        "Measure the normalized RSS on the test data."
      ]
    },
    {
      "cell_type": "code",
      "execution_count": null,
      "metadata": {
        "id": "priEKjjcE8QY"
      },
      "outputs": [],
      "source": [
        "# TODO 10\n",
        "# RSS_test = ..."
      ]
    },
    {
      "cell_type": "code",
      "execution_count": null,
      "metadata": {
        "id": "IPbx1OjEE8QY"
      },
      "outputs": [],
      "source": []
    }
  ],
  "metadata": {
    "anaconda-cloud": {},
    "kernelspec": {
      "display_name": "Python 3",
      "language": "python",
      "name": "python3"
    },
    "language_info": {
      "codemirror_mode": {
        "name": "ipython",
        "version": 3
      },
      "file_extension": ".py",
      "mimetype": "text/x-python",
      "name": "python",
      "nbconvert_exporter": "python",
      "pygments_lexer": "ipython3",
      "version": "3.8.5"
    },
    "colab": {
      "provenance": []
    }
  },
  "nbformat": 4,
  "nbformat_minor": 0
}